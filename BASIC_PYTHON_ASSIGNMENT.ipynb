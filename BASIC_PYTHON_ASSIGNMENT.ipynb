{
  "nbformat": 4,
  "nbformat_minor": 0,
  "metadata": {
    "colab": {
      "provenance": [],
      "toc_visible": true,
      "include_colab_link": true
    },
    "kernelspec": {
      "name": "python3",
      "display_name": "Python 3"
    },
    "language_info": {
      "name": "python"
    }
  },
  "cells": [
    {
      "cell_type": "markdown",
      "metadata": {
        "id": "view-in-github",
        "colab_type": "text"
      },
      "source": [
        "<a href=\"https://colab.research.google.com/github/darkdevil-3/cricket-cast/blob/main/BASIC_PYTHON_ASSIGNMENT.ipynb\" target=\"_parent\"><img src=\"https://colab.research.google.com/assets/colab-badge.svg\" alt=\"Open In Colab\"/></a>"
      ]
    },
    {
      "cell_type": "markdown",
      "source": [
        "HEY EVERYONE,THIS ASSIGNMENT COVERS BASIC TOPICS LIKE LIST,VARIABLES,STRINGS and FUNCTIONS.CREATE A COPY OF THIS NOTEBOOK AND WRITE YOUR SOLUTION BY CREATING A TEXT BOX JUST BELOW THE QUESTION BOX.TRY TO SOLVE EVERY QUESTION ON YOUR OWN:\n"
      ],
      "metadata": {
        "id": "dkFh-DddvBHj"
      }
    },
    {
      "cell_type": "markdown",
      "source": [
        "PROBLEM 1:\n",
        "Write a program that takes two numbers as input in variables 'a' and 'b' and prints their sum."
      ],
      "metadata": {
        "id": "u3D_U9ofvJq-"
      }
    },
    {
      "cell_type": "code",
      "source": [
        "a = float(input())\n",
        "b = float(input())\n",
        "print(a + b)"
      ],
      "metadata": {
        "id": "MjhWAjvM0SWX"
      },
      "execution_count": null,
      "outputs": []
    },
    {
      "cell_type": "markdown",
      "source": [
        "PROBLEM2:Write a program to swap the values of two variables without using a temporary variable."
      ],
      "metadata": {
        "id": "YDm97o5CvdS5"
      }
    },
    {
      "cell_type": "code",
      "source": [
        "a = float(input())\n",
        "b = float(input())\n",
        "a, b = b, a\n",
        "print(a, b)"
      ],
      "metadata": {
        "id": "PzRls4q-0T1j"
      },
      "execution_count": null,
      "outputs": []
    },
    {
      "cell_type": "markdown",
      "source": [
        "PROBLEM3:Write a Python code to check if the given number is a palindrome. A palindrome number reads the same forwards and backward. For example, 545 is a palindrome number."
      ],
      "metadata": {
        "id": "VYEDuuySvkEa"
      }
    },
    {
      "cell_type": "code",
      "source": [
        "num = input()\n",
        "rev = num[::-1]\n",
        "print(num == rev)"
      ],
      "metadata": {
        "id": "AYBJJQVR2LRG"
      },
      "execution_count": null,
      "outputs": []
    },
    {
      "cell_type": "code",
      "source": [],
      "metadata": {
        "id": "DmuhrA-k12aO"
      },
      "execution_count": null,
      "outputs": []
    },
    {
      "cell_type": "markdown",
      "source": [
        "PROBLEM4:Write a program that prints all even numbers between 1 and 50."
      ],
      "metadata": {
        "id": "z9FDSCS0v6Gx"
      }
    },
    {
      "cell_type": "code",
      "source": [
        "for i in range(2, 51, 2):\n",
        "    print(i)"
      ],
      "metadata": {
        "id": "c0yTOjpg0ggK"
      },
      "execution_count": null,
      "outputs": []
    },
    {
      "cell_type": "markdown",
      "source": [
        "PROBLEM5:Write a program that removes duplicates from a list."
      ],
      "metadata": {
        "id": "A4MfV8z_wMN8"
      }
    },
    {
      "cell_type": "code",
      "source": [
        "lst = input(\"Enter numbers separated by spaces: \").split()\n",
        "lst = list(set(lst))\n",
        "print(lst)"
      ],
      "metadata": {
        "id": "gG7RVPPJ11Tt"
      },
      "execution_count": null,
      "outputs": []
    },
    {
      "cell_type": "markdown",
      "source": [
        "PROBLEM6:Write a function that checks if a number is prime"
      ],
      "metadata": {
        "id": "yWSNq-I4wVX1"
      }
    },
    {
      "cell_type": "code",
      "source": [
        "def is_prime(n):\n",
        "    if n < 2:\n",
        "        return False\n",
        "    for i in range(2, n):\n",
        "        if n % i == 0:\n",
        "            return False\n",
        "    return True\n",
        "\n",
        "num = int(input())\n",
        "print(is_prime(num))"
      ],
      "metadata": {
        "id": "0Q-GWLn707Jw"
      },
      "execution_count": null,
      "outputs": []
    },
    {
      "cell_type": "markdown",
      "source": [
        "#QUIZ:\n",
        "1.What is the output of print(3 * 'ab')?\n",
        "a) ababab\n",
        "b) 3ab\n",
        "c) ab3\n",
        "d) Error"
      ],
      "metadata": {
        "id": "wGsxAxb4ww9d"
      }
    },
    {
      "cell_type": "markdown",
      "source": [
        "a\n"
      ],
      "metadata": {
        "id": "0Vdk60-Q2p0F"
      }
    },
    {
      "cell_type": "markdown",
      "source": [
        "2.Which method removes the last element from a list?\n",
        "a) list.remove()\n",
        "b) list.pop()\n",
        "c) list.delete()\n",
        "d) list.clear()"
      ],
      "metadata": {
        "id": "2oF6hlnaw4dk"
      }
    },
    {
      "cell_type": "markdown",
      "source": [
        "b"
      ],
      "metadata": {
        "id": "W0KuOUPn2XRc"
      }
    },
    {
      "cell_type": "markdown",
      "source": [
        "3.What does range(1, 10, 2) generate?\n",
        "a) [1, 3, 5, 7, 9]\n",
        "b) [1, 2, 3, 4, 5, 6, 7, 8, 9, 10]\n",
        "c) [2, 4, 6, 8, 10]\n",
        "d) [1, 3, 5, 7, 9, 11]"
      ],
      "metadata": {
        "id": "LXbZCT6Hw80T"
      }
    },
    {
      "cell_type": "markdown",
      "source": [
        "a\n"
      ],
      "metadata": {
        "id": "GxK22D8z2k8o"
      }
    },
    {
      "cell_type": "markdown",
      "source": [
        "4.What is the output of \"hello\".upper()?\n",
        "a) \"HELLO\"\n",
        "b) \"Hello\"\n",
        "c) \"hello\"\n",
        "d) Error"
      ],
      "metadata": {
        "id": "g4ALE9Jgw_AM"
      }
    },
    {
      "cell_type": "markdown",
      "source": [
        "a"
      ],
      "metadata": {
        "id": "iAseUBGN2jvR"
      }
    },
    {
      "cell_type": "markdown",
      "source": [
        "# **MINI PROJECT**\n",
        "SIMPLE CALCULATOR:\n",
        "you have to Write a program that takes two numbers and an operator as inputs (+, -, *, /) and performs the operation like a calculator."
      ],
      "metadata": {
        "id": "-9qroME-xCsm"
      }
    },
    {
      "cell_type": "code",
      "source": [
        "a = float(input(\"Enter first number: \"))\n",
        "b = float(input(\"Enter second number: \"))\n",
        "op = input(\"Enter operator (+, -, *, /): \")\n",
        "\n",
        "if op == '+':\n",
        "    print(num1 + num2)\n",
        "elif op == '-':\n",
        "    print(num1 - num2)\n",
        "elif op == '*':\n",
        "    print(num1 * num2)\n",
        "elif op == '/':\n",
        "    if num2 != 0:\n",
        "        print(num1 / num2)\n",
        "    else:\n",
        "        print(\"Error: Division by zero!\")\n",
        "else:\n",
        "    print(\"Invalid operator!\")"
      ],
      "metadata": {
        "id": "JmCE-Pau24EI"
      },
      "execution_count": null,
      "outputs": []
    }
  ]
}